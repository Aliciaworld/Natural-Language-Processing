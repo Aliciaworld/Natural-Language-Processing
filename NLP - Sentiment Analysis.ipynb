{
 "cells": [
  {
   "cell_type": "markdown",
   "metadata": {},
   "source": [
    "# Natural Language Processing(3): Sentiment Analysis"
   ]
  },
  {
   "cell_type": "markdown",
   "metadata": {},
   "source": [
    "A few key points to remember with sentiment analysis:\n",
    "1. **TextBlob**: Textblob is a python library built on top of **nltk**. Linguistic researchers have labeled the sentiment of words based on their domain expertise. Sentiment of words can vary based on where it is in a sentence. The TextBlob module allows us to take advantage of these lables.\n",
    "2. **Sentiment Labels**: Each word in a corpus is labeled in terms of polarity and subjectivity. A corpus' sentiment is the average of these.\n",
    "    - **Polarity**: How positive or negative a word is. -1 means very negative and +1 means very positive.\n",
    "    - **Subjectivity**: How subjective, or opinionated a word is. 0 is fact, and +1 is an opinion.\n",
    "\n",
    "The output of sentiment analysis is score. For example, for each actor we will give the them a sentiment score, which means how positive/negative they are and a subjectivity score, meaning how opinioned they are."
   ]
  },
  {
   "cell_type": "markdown",
   "metadata": {},
   "source": [
    "Since sentiment analysis has great relationship with orders of words. So we will start by reading in the corpus instead of document term matrix(DTM)."
   ]
  },
  {
   "cell_type": "code",
   "execution_count": null,
   "metadata": {},
   "outputs": [],
   "source": [
    "import pandas as pd\n",
    "data = pd.read_pickle('corpus.pkl')\n",
    "data"
   ]
  },
  {
   "cell_type": "code",
   "execution_count": null,
   "metadata": {},
   "outputs": [],
   "source": [
    "from textblob import TextBlob\n",
    "\n",
    "# using lambda function to find the polarity and subjectivity of each transcript\n",
    "data['polarity'] = data['transcript'].apply(lambda x: TextBlob(x).sentiment.polarity)\n",
    "data['subjectivity'] = data['transcript'].apply(lambda x: TextBlob(x).sentiment.subjectivity)\n",
    "\n",
    "data"
   ]
  },
  {
   "cell_type": "code",
   "execution_count": null,
   "metadata": {},
   "outputs": [],
   "source": [
    "# Plot the results\n",
    "import matplotlib.pyplot as plt\n",
    "%matplolib inline\n",
    "\n",
    "# setting the size\n",
    "plt.rcParams['figure.figsize'] = [10, 8]\n",
    "\n",
    "for index, actor in enumerate(data.index):\n",
    "    x = data['polarity'].loc[actor]\n",
    "    y = data['subjectivity'].loc[actor]\n",
    "    plt.scatter(x, y)\n",
    "    plt.text(x + 0.001, y + 0.001, data['full_name'][index], fontsize = 10)\n",
    "    plt.xlim(-0.01, 0.12)\n",
    "\n",
    "plt.title('Sentiment Analysis', fontsize = 20)\n",
    "plt.xlabel('<-- Negative -------- Positive -->', fontsize=15)\n",
    "plt.ylabel('<-- Facts -------- Opinions -->', fontsize=15)\n",
    "\n",
    "plt.show()"
   ]
  },
  {
   "cell_type": "code",
   "execution_count": null,
   "metadata": {},
   "outputs": [],
   "source": []
  },
  {
   "cell_type": "code",
   "execution_count": null,
   "metadata": {},
   "outputs": [],
   "source": [
    "# To check how the sentiment changed with time\n",
    "import numpy as np\n",
    "import math\n",
    "\n",
    "# Split each routine into 10 parts\n",
    "def split_text(text, n = 10):\n",
    "    length = len(text)\n",
    "    size = math.floor(length / n)\n",
    "    start = np.arange(0, length, size)\n",
    "    \n",
    "    split_list = []\n",
    "    for piece in range(n):\n",
    "        split_list.append(text[start[piece]: start[piece] + size])\n",
    "    \n",
    "    return split_list"
   ]
  },
  {
   "cell_type": "code",
   "execution_count": null,
   "metadata": {},
   "outputs": [],
   "source": [
    "# create a list to hold all of the pieces of text\n",
    "list_pieces = []\n",
    "\n",
    "for t in data.transcript:\n",
    "    split = split_text(t)\n",
    "    list_pieces.append(split)\n",
    "\n",
    "list_pieces\n",
    "# There are 12 actors(len(list_pieces)) in list_pieces and 10 pieces of text(len(list_pieces[0])) in each of transcript"
   ]
  },
  {
   "cell_type": "code",
   "execution_count": null,
   "metadata": {},
   "outputs": [],
   "source": [
    "# Calculate the polarity for each piece of text\n",
    "polarity_transcript = []\n",
    "for lp in list_pieces:\n",
    "    polarity_piece = []\n",
    "    for p in lp:\n",
    "        polarity_piece.append(TextBlob(p).sentiment.polarity)\n",
    "    polarity_transcript.append(polarity_piece)\n",
    "\n",
    "# polarity_transcript is a nested list list\n",
    "polarity_transcript"
   ]
  },
  {
   "cell_type": "code",
   "execution_count": null,
   "metadata": {},
   "outputs": [],
   "source": [
    "# Show the plot for all comedians\n",
    "plt.rcParams['figure.figsize'] = [16, 12]\n",
    "\n",
    "for index, actor in enumerate(data.index):\n",
    "    plt.subplot(3, 4, index+1)\n",
    "    plt.plot(polarity_transcript[index])\n",
    "    \n",
    "    # The following line is actually y=0, which is a standard line to help to identify the scope of previous\n",
    "    plt.plot(np.arange(0,10), np.zeros(10))\n",
    "    plt.title(data['full_name'][index])\n",
    "    plt.ylim(ymin = -0.2, ymax - 0.3)\n",
    "\n",
    "plt.show()"
   ]
  }
 ],
 "metadata": {
  "kernelspec": {
   "display_name": "Python 3",
   "language": "python",
   "name": "python3"
  },
  "language_info": {
   "codemirror_mode": {
    "name": "ipython",
    "version": 3
   },
   "file_extension": ".py",
   "mimetype": "text/x-python",
   "name": "python",
   "nbconvert_exporter": "python",
   "pygments_lexer": "ipython3",
   "version": "3.8.3"
  }
 },
 "nbformat": 4,
 "nbformat_minor": 4
}
